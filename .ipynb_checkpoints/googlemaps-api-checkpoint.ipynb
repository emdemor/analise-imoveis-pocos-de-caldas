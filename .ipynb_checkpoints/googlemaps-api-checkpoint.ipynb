{
 "cells": [
  {
   "cell_type": "markdown",
   "id": "5ef63b7c",
   "metadata": {},
   "source": [
    "# GoogleMaps API para obtenção de coordenadas geográficas"
   ]
  },
  {
   "cell_type": "markdown",
   "id": "2a8fdff9",
   "metadata": {},
   "source": [
    "Na base de imóveis da cidade de Poços de Caldas, um dos dados que frequentemente está ausente é o das coordenadas geográficas. O problema é que este dada é bastante importante para a visuzalição da distribuição dos imóveis. Sendo assim, vamos utilizar a API do GoogleMaps para tentar encontrar um par de coordendas aproximado para cada imóvel e, assim, conseguirmos obter a ditribuição de preços."
   ]
  },
  {
   "cell_type": "code",
   "execution_count": 3,
   "id": "ca0d9860",
   "metadata": {},
   "outputs": [],
   "source": [
    "import pandas as pd\n",
    "import numpy as np\n",
    "\n",
    "from tqdm import tqdm\n",
    "\n",
    "from basix import parquet, gmaps\n",
    "from basix.viz import ColorMix\n",
    "\n",
    "# Mostrar todas as colunas no display do pandas\n",
    "pd.options.display.max_columns = None"
   ]
  },
  {
   "cell_type": "markdown",
   "id": "4c088f42",
   "metadata": {},
   "source": [
    "# Importando Base de Dados"
   ]
  },
  {
   "cell_type": "code",
   "execution_count": 8,
   "id": "f1823a3b",
   "metadata": {},
   "outputs": [
    {
     "data": {
      "text/html": [
       "<div>\n",
       "<style scoped>\n",
       "    .dataframe tbody tr th:only-of-type {\n",
       "        vertical-align: middle;\n",
       "    }\n",
       "\n",
       "    .dataframe tbody tr th {\n",
       "        vertical-align: top;\n",
       "    }\n",
       "\n",
       "    .dataframe thead th {\n",
       "        text-align: right;\n",
       "    }\n",
       "</style>\n",
       "<table border=\"1\" class=\"dataframe\">\n",
       "  <thead>\n",
       "    <tr style=\"text-align: right;\">\n",
       "      <th></th>\n",
       "      <th>id_zap</th>\n",
       "      <th>type</th>\n",
       "      <th>n_parking_spaces</th>\n",
       "      <th>n_bathrooms</th>\n",
       "      <th>n_bedrooms</th>\n",
       "      <th>area</th>\n",
       "      <th>n_floors</th>\n",
       "      <th>units_on_floor</th>\n",
       "      <th>n_suites</th>\n",
       "      <th>state</th>\n",
       "      <th>city</th>\n",
       "      <th>neighborhood</th>\n",
       "      <th>street</th>\n",
       "      <th>longitude</th>\n",
       "      <th>latitude</th>\n",
       "      <th>price</th>\n",
       "      <th>condo_fee</th>\n",
       "      <th>iptu</th>\n",
       "      <th>resale</th>\n",
       "      <th>buildings</th>\n",
       "      <th>plan_only</th>\n",
       "      <th>amenities</th>\n",
       "      <th>pois_list</th>\n",
       "      <th>link</th>\n",
       "      <th>description</th>\n",
       "      <th>search_date</th>\n",
       "    </tr>\n",
       "  </thead>\n",
       "  <tbody>\n",
       "    <tr>\n",
       "      <th>1070</th>\n",
       "      <td>2503300978</td>\n",
       "      <td>APARTMENT</td>\n",
       "      <td>1.0</td>\n",
       "      <td>1.0</td>\n",
       "      <td>3.0</td>\n",
       "      <td>91.0</td>\n",
       "      <td>NaN</td>\n",
       "      <td>0</td>\n",
       "      <td>1.0</td>\n",
       "      <td>MG</td>\n",
       "      <td>Poços de Caldas</td>\n",
       "      <td>Jardim Ipê</td>\n",
       "      <td>None</td>\n",
       "      <td>NaN</td>\n",
       "      <td>NaN</td>\n",
       "      <td>289000.0</td>\n",
       "      <td>NaN</td>\n",
       "      <td>NaN</td>\n",
       "      <td>0</td>\n",
       "      <td>0</td>\n",
       "      <td>0</td>\n",
       "      <td>[INTERCOM, BALCONY]</td>\n",
       "      <td>[{'class': 'BR', 'name': 'Tenda do Habibi'}, {...</td>\n",
       "      <td>/imovel/venda-apartamento-3-quartos-com-interf...</td>\n",
       "      <td>Apartamento em Poços de Caldas, no bairro Jard...</td>\n",
       "      <td>2021-06-04</td>\n",
       "    </tr>\n",
       "    <tr>\n",
       "      <th>223</th>\n",
       "      <td>2475714291</td>\n",
       "      <td>APARTMENT</td>\n",
       "      <td>2.0</td>\n",
       "      <td>2.0</td>\n",
       "      <td>3.0</td>\n",
       "      <td>90.0</td>\n",
       "      <td>NaN</td>\n",
       "      <td>0</td>\n",
       "      <td>1.0</td>\n",
       "      <td>MG</td>\n",
       "      <td>Poços de Caldas</td>\n",
       "      <td>Jardim Country Club</td>\n",
       "      <td>Rua Antônio Augusto Grillo</td>\n",
       "      <td>-46.601480</td>\n",
       "      <td>-21.795440</td>\n",
       "      <td>446800.0</td>\n",
       "      <td>250.0</td>\n",
       "      <td>0.0</td>\n",
       "      <td>0</td>\n",
       "      <td>0</td>\n",
       "      <td>0</td>\n",
       "      <td>[ELEVATOR, INTERCOM]</td>\n",
       "      <td>[{'class': 'SC', 'name': 'Cá D'oro Cristais Ar...</td>\n",
       "      <td>/imovel/venda-apartamento-3-quartos-com-elevad...</td>\n",
       "      <td>O apartamento está localizado no bairro Jardim...</td>\n",
       "      <td>2021-06-04</td>\n",
       "    </tr>\n",
       "    <tr>\n",
       "      <th>4586</th>\n",
       "      <td>2528447858</td>\n",
       "      <td>APARTMENT</td>\n",
       "      <td>NaN</td>\n",
       "      <td>1.0</td>\n",
       "      <td>2.0</td>\n",
       "      <td>77.0</td>\n",
       "      <td>NaN</td>\n",
       "      <td>0</td>\n",
       "      <td>NaN</td>\n",
       "      <td>MG</td>\n",
       "      <td>Poços de Caldas</td>\n",
       "      <td>Residencial Torre</td>\n",
       "      <td>Avenida Vereador Reynaldo Figueiredo Bastos</td>\n",
       "      <td>-46.538136</td>\n",
       "      <td>-21.788052</td>\n",
       "      <td>350000.0</td>\n",
       "      <td>NaN</td>\n",
       "      <td>0.0</td>\n",
       "      <td>0</td>\n",
       "      <td>0</td>\n",
       "      <td>0</td>\n",
       "      <td>[KITCHEN, ELEVATOR, LAUNDRY]</td>\n",
       "      <td>[]</td>\n",
       "      <td>/imovel/venda-apartamento-2-quartos-com-cozinh...</td>\n",
       "      <td>Excelente Apto localizado bairro Primavera, 2 ...</td>\n",
       "      <td>2021-07-31</td>\n",
       "    </tr>\n",
       "    <tr>\n",
       "      <th>4864</th>\n",
       "      <td>2529125510</td>\n",
       "      <td>APARTMENT</td>\n",
       "      <td>2.0</td>\n",
       "      <td>1.0</td>\n",
       "      <td>2.0</td>\n",
       "      <td>62.0</td>\n",
       "      <td>NaN</td>\n",
       "      <td>0</td>\n",
       "      <td>NaN</td>\n",
       "      <td>MG</td>\n",
       "      <td>Poços de Caldas</td>\n",
       "      <td>Residencial Greenville</td>\n",
       "      <td>None</td>\n",
       "      <td>NaN</td>\n",
       "      <td>NaN</td>\n",
       "      <td>210000.0</td>\n",
       "      <td>NaN</td>\n",
       "      <td>NaN</td>\n",
       "      <td>0</td>\n",
       "      <td>0</td>\n",
       "      <td>0</td>\n",
       "      <td>[BALCONY, SERVICE_AREA]</td>\n",
       "      <td>[{'class': 'SC', 'name': 'San Michel Supermerc...</td>\n",
       "      <td>/imovel/venda-apartamento-2-quartos-com-varand...</td>\n",
       "      <td>Apartamento no bairro Green Ville, com:&lt;br&gt;2 q...</td>\n",
       "      <td>2021-07-31</td>\n",
       "    </tr>\n",
       "    <tr>\n",
       "      <th>9485</th>\n",
       "      <td>2539323161</td>\n",
       "      <td>APARTMENT</td>\n",
       "      <td>2.0</td>\n",
       "      <td>1.0</td>\n",
       "      <td>2.0</td>\n",
       "      <td>75.0</td>\n",
       "      <td>NaN</td>\n",
       "      <td>0</td>\n",
       "      <td>1.0</td>\n",
       "      <td>MG</td>\n",
       "      <td>Poços de Caldas</td>\n",
       "      <td>Jardim Country Club</td>\n",
       "      <td>None</td>\n",
       "      <td>NaN</td>\n",
       "      <td>NaN</td>\n",
       "      <td>320000.0</td>\n",
       "      <td>0.0</td>\n",
       "      <td>0.0</td>\n",
       "      <td>0</td>\n",
       "      <td>0</td>\n",
       "      <td>0</td>\n",
       "      <td>[KITCHEN, ELEVATOR, INTERCOM, BALCONY, SERVICE...</td>\n",
       "      <td>[{'class': 'BR', 'name': 'Ollivia Gastronomia'...</td>\n",
       "      <td>/imovel/venda-apartamento-2-quartos-com-cozinh...</td>\n",
       "      <td>02 Dormitórios (sendo 01 suíte)&lt;br&gt;Sala (com s...</td>\n",
       "      <td>2021-12-30</td>\n",
       "    </tr>\n",
       "  </tbody>\n",
       "</table>\n",
       "</div>"
      ],
      "text/plain": [
       "          id_zap       type  n_parking_spaces  n_bathrooms  n_bedrooms  area  \\\n",
       "1070  2503300978  APARTMENT               1.0          1.0         3.0  91.0   \n",
       "223   2475714291  APARTMENT               2.0          2.0         3.0  90.0   \n",
       "4586  2528447858  APARTMENT               NaN          1.0         2.0  77.0   \n",
       "4864  2529125510  APARTMENT               2.0          1.0         2.0  62.0   \n",
       "9485  2539323161  APARTMENT               2.0          1.0         2.0  75.0   \n",
       "\n",
       "      n_floors  units_on_floor  n_suites state             city  \\\n",
       "1070       NaN               0       1.0    MG  Poços de Caldas   \n",
       "223        NaN               0       1.0    MG  Poços de Caldas   \n",
       "4586       NaN               0       NaN    MG  Poços de Caldas   \n",
       "4864       NaN               0       NaN    MG  Poços de Caldas   \n",
       "9485       NaN               0       1.0    MG  Poços de Caldas   \n",
       "\n",
       "                neighborhood                                       street  \\\n",
       "1070              Jardim Ipê                                         None   \n",
       "223      Jardim Country Club                   Rua Antônio Augusto Grillo   \n",
       "4586       Residencial Torre  Avenida Vereador Reynaldo Figueiredo Bastos   \n",
       "4864  Residencial Greenville                                         None   \n",
       "9485     Jardim Country Club                                         None   \n",
       "\n",
       "      longitude   latitude     price  condo_fee  iptu  resale  buildings  \\\n",
       "1070        NaN        NaN  289000.0        NaN   NaN       0          0   \n",
       "223  -46.601480 -21.795440  446800.0      250.0   0.0       0          0   \n",
       "4586 -46.538136 -21.788052  350000.0        NaN   0.0       0          0   \n",
       "4864        NaN        NaN  210000.0        NaN   NaN       0          0   \n",
       "9485        NaN        NaN  320000.0        0.0   0.0       0          0   \n",
       "\n",
       "      plan_only                                          amenities  \\\n",
       "1070          0                                [INTERCOM, BALCONY]   \n",
       "223           0                               [ELEVATOR, INTERCOM]   \n",
       "4586          0                       [KITCHEN, ELEVATOR, LAUNDRY]   \n",
       "4864          0                            [BALCONY, SERVICE_AREA]   \n",
       "9485          0  [KITCHEN, ELEVATOR, INTERCOM, BALCONY, SERVICE...   \n",
       "\n",
       "                                              pois_list  \\\n",
       "1070  [{'class': 'BR', 'name': 'Tenda do Habibi'}, {...   \n",
       "223   [{'class': 'SC', 'name': 'Cá D'oro Cristais Ar...   \n",
       "4586                                                 []   \n",
       "4864  [{'class': 'SC', 'name': 'San Michel Supermerc...   \n",
       "9485  [{'class': 'BR', 'name': 'Ollivia Gastronomia'...   \n",
       "\n",
       "                                                   link  \\\n",
       "1070  /imovel/venda-apartamento-3-quartos-com-interf...   \n",
       "223   /imovel/venda-apartamento-3-quartos-com-elevad...   \n",
       "4586  /imovel/venda-apartamento-2-quartos-com-cozinh...   \n",
       "4864  /imovel/venda-apartamento-2-quartos-com-varand...   \n",
       "9485  /imovel/venda-apartamento-2-quartos-com-cozinh...   \n",
       "\n",
       "                                            description search_date  \n",
       "1070  Apartamento em Poços de Caldas, no bairro Jard...  2021-06-04  \n",
       "223   O apartamento está localizado no bairro Jardim...  2021-06-04  \n",
       "4586  Excelente Apto localizado bairro Primavera, 2 ...  2021-07-31  \n",
       "4864  Apartamento no bairro Green Ville, com:<br>2 q...  2021-07-31  \n",
       "9485  02 Dormitórios (sendo 01 suíte)<br>Sala (com s...  2021-12-30  "
      ]
     },
     "execution_count": 8,
     "metadata": {},
     "output_type": "execute_result"
    }
   ],
   "source": [
    "df_raw = pd.read_parquet(\"data/raw\")\n",
    "df_raw.sample(5, random_state=1)"
   ]
  },
  {
   "cell_type": "markdown",
   "id": "e031ad82",
   "metadata": {},
   "source": [
    "Nota-se que muitas desses imóveis estão sem:\n",
    "* nome da rua\n",
    "* latitude e longitude"
   ]
  },
  {
   "cell_type": "code",
   "execution_count": 11,
   "id": "a517349c",
   "metadata": {},
   "outputs": [
    {
     "data": {
      "text/plain": [
       "1557"
      ]
     },
     "execution_count": 11,
     "metadata": {},
     "output_type": "execute_result"
    }
   ],
   "source": [
    "df_raw[\"street\"].notna().sum()"
   ]
  },
  {
   "cell_type": "code",
   "execution_count": 12,
   "id": "a7ee863f",
   "metadata": {},
   "outputs": [
    {
     "data": {
      "text/plain": [
       "978"
      ]
     },
     "execution_count": 12,
     "metadata": {},
     "output_type": "execute_result"
    }
   ],
   "source": [
    "df_raw[\"longitude\"].notna().sum()"
   ]
  },
  {
   "cell_type": "code",
   "execution_count": 13,
   "id": "77e64041",
   "metadata": {},
   "outputs": [
    {
     "data": {
      "text/plain": [
       "978"
      ]
     },
     "execution_count": 13,
     "metadata": {},
     "output_type": "execute_result"
    }
   ],
   "source": [
    "df_raw[\"latitude\"].notna().sum()"
   ]
  },
  {
   "cell_type": "markdown",
   "id": "f475c1f3",
   "metadata": {},
   "source": [
    "Queremos utilizar a API do google maps para preencher esses campos. Temos os possíveis casos\n",
    "\n",
    "* se `(latitute == None) & (longitute == None)`:\n",
    "   - se `street != None`:\n",
    "       Pesquisar no googlemaps por `estado, cidade, bairro, rua`\n",
    "   - se `street == None`:\n",
    "       Pesquisar no googlemaps por `estado, cidade, bairro`\n",
    "       \n",
    "* se `(latitute != None) & (longitute != None)`:\n",
    "   Não precisa consultar via googlemaps API"
   ]
  },
  {
   "cell_type": "markdown",
   "id": "49d16a3d",
   "metadata": {},
   "source": [
    "Para utilizar a API do google maps, é preciso instalar a biblioteca [googlemaps](https://pypi.org/project/googlemaps/).\n",
    "\n",
    "```bash\n",
    "pip install googlemaps\n",
    "```\n",
    "\n",
    "Além disso, é preciso ter uma chave registrada na Google Cloud. Salvei a minha chave em uma variável de ambiente chamada `GOOGLE_MAPS_KEY` que será lida na hora de executar o request. Pra quem tem o costume de iniciar o jupyter via linha de comando, basta\n",
    "```\n",
    "export GOOGLE_MAPS_KEY=<<digite_aqui_sua_chave>>\n",
    "jupyter notebook path/to/this/notebook.ipynb\n",
    "```\n",
    "Por outro lado, de dentro do notebook mesmo, pode fazer assim:\n",
    "\n",
    "```python\n",
    "import os\n",
    "\n",
    "os.environ[\"GOOGLE_MAPS_KEY\"] = \"<<digite_aqui_sua_chave>>\"\n",
    "```\n",
    "Apenas certifique-se de apagar a chave assim que rodar. (Tome cuidado para não fazer nenhum commit com sua chave hardcodada no script pois ela se manterá no histórico do git)"
   ]
  },
  {
   "cell_type": "markdown",
   "id": "fea4b5d7",
   "metadata": {},
   "source": [
    "Testando a função"
   ]
  },
  {
   "cell_type": "code",
   "execution_count": 11,
   "id": "295226bc",
   "metadata": {},
   "outputs": [
    {
     "data": {
      "text/plain": [
       "(-23.5613462, -46.6564872)"
      ]
     },
     "execution_count": 11,
     "metadata": {},
     "output_type": "execute_result"
    }
   ],
   "source": [
    "gmaps.get_coord(\"Brazil\", \"SP\", \"São Paulo\",\"Avenida Paulista\")"
   ]
  },
  {
   "cell_type": "markdown",
   "id": "56a52e91",
   "metadata": {},
   "source": [
    "A estratégia será a seguinte, vou importar as coordenadas de cada bairro e de todos os imóveis com rua e sem lat/long"
   ]
  },
  {
   "cell_type": "markdown",
   "id": "fd0a7033",
   "metadata": {},
   "source": [
    "### Lat / Long para as ruas"
   ]
  },
  {
   "cell_type": "code",
   "execution_count": 55,
   "id": "3a3f410a",
   "metadata": {},
   "outputs": [
    {
     "name": "stderr",
     "output_type": "stream",
     "text": [
      " 27%|██▋       | 156/579 [00:31<01:22,  5.12it/s]ERROR:root:list index out of range\n",
      "100%|██████████| 579/579 [03:07<00:00,  3.08it/s]\n"
     ]
    }
   ],
   "source": [
    "\n",
    "# Imóveis com nome da rua e sem lat/long\n",
    "temp = df_raw[\n",
    "    df_raw[\"street\"].notna() & df_raw[\"longitude\"].isna() & df_raw[\"longitude\"].isna()\n",
    "]\n",
    "\n",
    "\n",
    "list_ = []\n",
    "\n",
    "for id_, date_, state_, city_, neighbor_, street_ in tqdm(\n",
    "    temp[[\"id_zap\", \"search_date\", \"state\", \"city\", \"neighborhood\", \"street\"]].values\n",
    "):\n",
    "\n",
    "    lat, long = get_coord(\"Brazil\", state_, city_, neighbor_, street_)\n",
    "\n",
    "    list_.append(\n",
    "        {\n",
    "            \"id_zap\": id_,\n",
    "            \"search_date\": date_,\n",
    "            \"latitude\": lat,\n",
    "            \"longitude\": long,\n",
    "        }\n",
    "    )\n",
    "\n",
    "lat_long_street = pd.DataFrame(list_)\n",
    "lat_long_street.to_csv(\"data/external/lat_long_street.csv\")"
   ]
  },
  {
   "cell_type": "markdown",
   "id": "14959d1c",
   "metadata": {},
   "source": [
    "### Lat / Long para os bairros"
   ]
  },
  {
   "cell_type": "code",
   "execution_count": 58,
   "id": "c88b40e5",
   "metadata": {},
   "outputs": [
    {
     "name": "stderr",
     "output_type": "stream",
     "text": [
      "100%|██████████| 155/155 [02:12<00:00,  1.17it/s]\n"
     ]
    }
   ],
   "source": [
    "list_ = []\n",
    "for neighbor_ in tqdm(df_raw['neighborhood'].unique()):\n",
    "\n",
    "    lat, long = get_coord(\"Brazil\", \"MG\", \"Poços de Caldas\", neighbor_)\n",
    "\n",
    "    list_.append(\n",
    "        {\n",
    "            \"neighborhood\": neighbor_,\n",
    "            \"latitude\": lat,\n",
    "            \"longitude\": long,\n",
    "        }\n",
    "    )\n",
    "\n",
    "lat_long_neighbor = pd.DataFrame(list_)\n",
    "lat_long_neighbor.to_csv(\"data/external/lat_long_neighbor.csv\")"
   ]
  },
  {
   "cell_type": "markdown",
   "id": "7ae141ac",
   "metadata": {},
   "source": [
    "### Imputando os valores faltates de Lat/Long"
   ]
  },
  {
   "cell_type": "code",
   "execution_count": 94,
   "id": "040e5ed4",
   "metadata": {},
   "outputs": [],
   "source": [
    "\n",
    "df_coord_street = (\n",
    "    pd.read_csv(\"data/external/lat_long_street.csv\")\n",
    "    .rename(columns={\"latitude\": \"latitude_s\", \"longitude\": \"longitude_s\"})\n",
    "    .drop(columns=\"Unnamed: 0\")\n",
    ")\n",
    "df_coord_street[\"id_zap\"] = df_coord_street[\"id_zap\"].astype(str)\n",
    "\n",
    "df_coord_neighbor = (\n",
    "    pd.read_csv(\"data/external/lat_long_neighbor.csv\")\n",
    "    .rename(columns={\"latitude\": \"latitude_n\", \"longitude\": \"longitude_n\"})\n",
    "    .drop(columns=\"Unnamed: 0\")\n",
    ")\n",
    "\n",
    "df = (\n",
    "    df_raw.copy()\n",
    "    .merge(df_coord_street, on=[\"id_zap\", \"search_date\"], how=\"left\")\n",
    "    .merge(df_coord_neighbor, on=[\"neighborhood\"], how=\"left\")\n",
    ")\n",
    "\n",
    "for _ in [\"latitude\", \"longitude\"]:\n",
    "    df[_] = np.where(\n",
    "        df[_].notna(),\n",
    "        df[_],\n",
    "        np.where(df[_ + \"_s\"].notna(), df[_ + \"_s\"], df[_ + \"_n\"]),\n",
    "    )\n",
    "\n",
    "    df = df.drop(columns=[_ + \"_s\", _ + \"_n\"])\n",
    "    "
   ]
  },
  {
   "cell_type": "markdown",
   "id": "1468ed80",
   "metadata": {},
   "source": [
    "## Exportanto a base"
   ]
  },
  {
   "cell_type": "code",
   "execution_count": null,
   "id": "c0f394aa",
   "metadata": {},
   "outputs": [],
   "source": [
    "parquet.write(df, \"data/interim\", partition_cols=[\"search_date\"])"
   ]
  }
 ],
 "metadata": {
  "kernelspec": {
   "display_name": "Python 3",
   "language": "python",
   "name": "python3"
  },
  "language_info": {
   "codemirror_mode": {
    "name": "ipython",
    "version": 3
   },
   "file_extension": ".py",
   "mimetype": "text/x-python",
   "name": "python",
   "nbconvert_exporter": "python",
   "pygments_lexer": "ipython3",
   "version": "3.6.9"
  }
 },
 "nbformat": 4,
 "nbformat_minor": 5
}
